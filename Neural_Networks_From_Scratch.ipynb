{
  "nbformat": 4,
  "nbformat_minor": 0,
  "metadata": {
    "colab": {
      "provenance": [],
      "authorship_tag": "ABX9TyNKU56rCWKxJQhUUOKY6X9J",
      "include_colab_link": true
    },
    "kernelspec": {
      "name": "python3",
      "display_name": "Python 3"
    },
    "language_info": {
      "name": "python"
    }
  },
  "cells": [
    {
      "cell_type": "markdown",
      "metadata": {
        "id": "view-in-github",
        "colab_type": "text"
      },
      "source": [
        "<a href=\"https://colab.research.google.com/github/DevCielo/neural-networks-from-scratch/blob/main/Neural_Networks_From_Scratch.ipynb\" target=\"_parent\"><img src=\"https://colab.research.google.com/assets/colab-badge.svg\" alt=\"Open In Colab\"/></a>"
      ]
    },
    {
      "cell_type": "markdown",
      "source": [
        "# **Bulding CNN's with tensorflow and from scratch**"
      ],
      "metadata": {
        "id": "myJdUFaNRmay"
      }
    },
    {
      "cell_type": "markdown",
      "source": [
        "# LeNet-5 with tensorflow\n"
      ],
      "metadata": {
        "id": "5q8rR2OMR2-k"
      }
    },
    {
      "cell_type": "code",
      "source": [
        "model = tf.keras.Sequential([\n",
        "    tf.keras.layers.Conv2D(6, (28, 28), strides=(1, 1), name='conv0')\n",
        "    tf.keras.layers.AveragePooling2D((2,2), name='avg_pool0')\n",
        "    tf.keras.layers.Conv2D(16, (14, 14), strides=(1,1), name='conv1')\n",
        "    tf.keras.layers.AveragePooling2D((2,2), name='avg_pool1')\n",
        "    tf.keras.layers.Dense(120, activation='sigmoid', name='fc0')\n",
        "    tf.keras.layers.Dense(84, activation='sigmoid', name='fc1')\n",
        "    tf.keras.layers.Dense(1, activation='sigmoid', name='fc2')\n",
        "])"
      ],
      "metadata": {
        "id": "pqia4OT9OKQ9"
      },
      "execution_count": null,
      "outputs": []
    },
    {
      "cell_type": "markdown",
      "source": [
        "# LeNet-5 from scratch"
      ],
      "metadata": {
        "id": "mHwu9zjpSBUv"
      }
    },
    {
      "cell_type": "code",
      "execution_count": null,
      "metadata": {
        "id": "P_8A0CJOOIxv"
      },
      "outputs": [],
      "source": []
    }
  ]
}