{
  "nbformat": 4,
  "nbformat_minor": 0,
  "metadata": {
    "colab": {
      "provenance": [],
      "gpuType": "T4",
      "authorship_tag": "ABX9TyMs/wKr4tb64xLK5gbus0Ir",
      "include_colab_link": true
    },
    "kernelspec": {
      "name": "python3",
      "display_name": "Python 3"
    },
    "language_info": {
      "name": "python"
    },
    "accelerator": "GPU"
  },
  "cells": [
    {
      "cell_type": "markdown",
      "metadata": {
        "id": "view-in-github",
        "colab_type": "text"
      },
      "source": [
        "<a href=\"https://colab.research.google.com/github/DevCielo/neural-networks-from-scratch/blob/main/Neural_Networks_From_Scratch.ipynb\" target=\"_parent\"><img src=\"https://colab.research.google.com/assets/colab-badge.svg\" alt=\"Open In Colab\"/></a>"
      ]
    },
    {
      "cell_type": "markdown",
      "source": [
        "# **Bulding CNN's with tensorflow and from scratch**"
      ],
      "metadata": {
        "id": "myJdUFaNRmay"
      }
    },
    {
      "cell_type": "code",
      "source": [
        "import tensorflow as tf\n",
        "from tensorflow.keras.datasets import mnist\n",
        "from tensorflow.keras.utils import to_categorical\n",
        "import matplotlib.pyplot as plt\n",
        "import numpy as np"
      ],
      "metadata": {
        "id": "knBJgqpJtGEI"
      },
      "execution_count": null,
      "outputs": []
    },
    {
      "cell_type": "markdown",
      "source": [
        "# LeNet-5 with tensorflow\n"
      ],
      "metadata": {
        "id": "5q8rR2OMR2-k"
      }
    },
    {
      "cell_type": "code",
      "source": [
        "def LeNet5():\n",
        "  model = tf.keras.Sequential([\n",
        "      # Convolution Layer\n",
        "      tf.keras.layers.Conv2D(6, (5, 5), activation='tanh', strides=(1, 1), padding='valid', name='conv0'),\n",
        "      # Average Pooling Layer\n",
        "      tf.keras.layers.AveragePooling2D((2,2), strides=(2,2), name='avg_pool0'),\n",
        "      # Convolution Layer\n",
        "      tf.keras.layers.Conv2D(16, (5, 5), strides=(1,1), padding='valid', activation='tanh', name='conv1'),\n",
        "      # Average Pooling Layer\n",
        "      tf.keras.layers.AveragePooling2D((2,2), strides=(2,2), name='avg_pool1'),\n",
        "      # Convolution Layer\n",
        "      tf.keras.layers.Conv2D(120, (5, 5), strides=(1, 1), padding='valid', activation='tanh', name='conv2'),\n",
        "      # Flatten the output\n",
        "      tf.keras.layers.Flatten(),\n",
        "      # Fully Connected Layer\n",
        "      tf.keras.layers.Dense(84, activation='tanh', name='fc1'),\n",
        "      tf.keras.layers.Dense(10, activation='softmax', name='output'),\n",
        "  ])\n",
        "\n",
        "  return model"
      ],
      "metadata": {
        "id": "pqia4OT9OKQ9"
      },
      "execution_count": null,
      "outputs": []
    },
    {
      "cell_type": "code",
      "source": [
        "# Load and preprocess the MNIST dataset\n",
        "(train_images, train_labels), (test_images, test_labels) = mnist.load_data()\n",
        "\n",
        "# Normalize the images\n",
        "train_images = train_images / 255.0\n",
        "test_images = test_images / 255.0\n",
        "\n",
        "# Reshape the images to (32, 32, 1) to match the input shape of LeNet-5\n",
        "train_images = np.expand_dims(train_images, axis=-1)\n",
        "test_images = np.expand_dims(test_images, axis=-1)\n",
        "\n",
        "# Zero-pad the images to 32x32\n",
        "train_images = np.pad(train_images, ((0, 0), (2, 2), (2, 2), (0, 0)), mode='constant')\n",
        "test_images = np.pad(test_images, ((0, 0), (2, 2), (2, 2), (0, 0)), mode='constant')\n",
        "\n",
        "# Convert labels to one-hot encoding\n",
        "train_labels = to_categorical(train_labels, 10)\n",
        "test_labels = to_categorical(test_labels, 10)\n",
        "\n",
        "# Create the model\n",
        "model = LeNet5()\n",
        "\n",
        "# Compile the model\n",
        "model.compile(optimizer='adam', loss='categorical_crossentropy', metrics=['accuracy'])\n",
        "\n",
        "# Train the model\n",
        "history = model.fit(train_images, train_labels, epochs=10, batch_size=64, validation_split=0.1)\n",
        "\n",
        "# Evaluate the model on the test set\n",
        "test_loss, test_acc = model.evaluate(test_images, test_labels)\n",
        "print(f\"Test accuracy: {test_acc}\")\n",
        "\n",
        "# Make a prediction on the first test image\n",
        "prediction = model.predict(test_images[0:1])\n",
        "predicted_digit = np.argmax(prediction)\n",
        "print(f\"Predicted digit: {predicted_digit}\")\n",
        "\n",
        "# Show the test image\n",
        "plt.imshow(test_images[0].squeeze(), cmap='gray')\n",
        "plt.title(f\"Test Image [Predicted Digit: {predicted_digit}]\")\n",
        "plt.axis('off')\n",
        "plt.show()"
      ],
      "metadata": {
        "colab": {
          "base_uri": "https://localhost:8080/",
          "height": 870
        },
        "id": "T7_mCOpCtOO-",
        "outputId": "78bddf75-5285-4d1b-eee1-3de17775512e"
      },
      "execution_count": null,
      "outputs": [
        {
          "output_type": "stream",
          "name": "stdout",
          "text": [
            "Downloading data from https://storage.googleapis.com/tensorflow/tf-keras-datasets/mnist.npz\n",
            "11490434/11490434 [==============================] - 0s 0us/step\n",
            "Epoch 1/10\n",
            "844/844 [==============================] - 11s 7ms/step - loss: 0.2843 - accuracy: 0.9160 - val_loss: 0.1045 - val_accuracy: 0.9712\n",
            "Epoch 2/10\n",
            "844/844 [==============================] - 6s 8ms/step - loss: 0.1050 - accuracy: 0.9672 - val_loss: 0.0706 - val_accuracy: 0.9800\n",
            "Epoch 3/10\n",
            "844/844 [==============================] - 6s 7ms/step - loss: 0.0711 - accuracy: 0.9785 - val_loss: 0.0712 - val_accuracy: 0.9795\n",
            "Epoch 4/10\n",
            "844/844 [==============================] - 6s 7ms/step - loss: 0.0524 - accuracy: 0.9836 - val_loss: 0.0602 - val_accuracy: 0.9835\n",
            "Epoch 5/10\n",
            "844/844 [==============================] - 4s 5ms/step - loss: 0.0414 - accuracy: 0.9869 - val_loss: 0.0588 - val_accuracy: 0.9852\n",
            "Epoch 6/10\n",
            "844/844 [==============================] - 4s 5ms/step - loss: 0.0350 - accuracy: 0.9885 - val_loss: 0.0545 - val_accuracy: 0.9847\n",
            "Epoch 7/10\n",
            "844/844 [==============================] - 5s 6ms/step - loss: 0.0277 - accuracy: 0.9916 - val_loss: 0.0489 - val_accuracy: 0.9865\n",
            "Epoch 8/10\n",
            "844/844 [==============================] - 4s 5ms/step - loss: 0.0227 - accuracy: 0.9928 - val_loss: 0.0612 - val_accuracy: 0.9840\n",
            "Epoch 9/10\n",
            "844/844 [==============================] - 4s 5ms/step - loss: 0.0207 - accuracy: 0.9932 - val_loss: 0.0564 - val_accuracy: 0.9858\n",
            "Epoch 10/10\n",
            "844/844 [==============================] - 5s 6ms/step - loss: 0.0167 - accuracy: 0.9947 - val_loss: 0.0495 - val_accuracy: 0.9878\n",
            "313/313 [==============================] - 1s 3ms/step - loss: 0.0471 - accuracy: 0.9872\n",
            "Test accuracy: 0.9872000217437744\n",
            "1/1 [==============================] - 0s 202ms/step\n",
            "Predicted digit: 7\n"
          ]
        },
        {
          "output_type": "display_data",
          "data": {
            "text/plain": [
              "<Figure size 640x480 with 1 Axes>"
            ],
            "image/png": "[encoded data removed]"
          },
          "metadata": {}
        }
      ]
    },
    {
      "cell_type": "code",
      "source": [
        "# Plot the training and validation accuracy and loss\n",
        "fig, (ax1, ax2) = plt.subplots(1, 2, figsize=(14, 5))\n",
        "\n",
        "# Plot accuracy\n",
        "ax1.plot(history.history['accuracy'], label='Train Accuracy')\n",
        "ax1.plot(history.history['val_accuracy'], label='Val Accuracy')\n",
        "ax1.set_title('Accuracy over Epochs')\n",
        "ax1.set_xlabel('Epochs')\n",
        "ax1.set_ylabel('Accuracy')\n",
        "ax1.legend()\n",
        "\n",
        "# Plot loss\n",
        "ax2.plot(history.history['loss'], label='Train Loss')\n",
        "ax2.plot(history.history['val_loss'], label='Val Loss')\n",
        "ax2.set_title('Loss over Epochs')\n",
        "ax2.set_xlabel('Epochs')\n",
        "ax2.set_ylabel('Loss')\n",
        "ax2.legend()\n",
        "\n",
        "plt.show()"
      ],
      "metadata": {
        "colab": {
          "base_uri": "https://localhost:8080/",
          "height": 487
        },
        "id": "nPyKKKorts09",
        "outputId": "8c322bd2-615f-4844-a05b-da33f836285f"
      },
      "execution_count": null,
      "outputs": [
        {
          "output_type": "display_data",
          "data": {
            "text/plain": [
              "<Figure size 1400x500 with 2 Axes>"
            ],
            "image/png": "[encoded data removed]"
          },
          "metadata": {}
        }
      ]
    },
    {
      "cell_type": "markdown",
      "source": [
        "# LeNet-5 from scratch"
      ],
      "metadata": {
        "id": "mHwu9zjpSBUv"
      }
    },
    {
      "cell_type": "code",
      "execution_count": null,
      "metadata": {
        "id": "P_8A0CJOOIxv"
      },
      "outputs": [],
      "source": [
        "def conv2d(input, filters, bias, stride=1, padding=0):\n",
        "  # decompose the filters shape into the filter size (f) and the number of filters (n_f)\n",
        "  (n_f, f, f, n_c) = filters.shape\n",
        "  # decomposes the input shape into the input dimensions (in_dim) and the number of channels (n_c)\n",
        "  (in_dim, in_dim, n_c) = input.shape\n",
        "\n",
        "  # calculates the output dimensions using formula ((n+2p-f)/s + 1)\n",
        "  # int to floor function\n",
        "  out_dim = int((in_dim + 2*padding-f)/stride) + 1\n",
        "\n",
        "  # sets the new output shape to be out_dim*out_dim*n_f\n",
        "  output = np.zeros((out_dim, out_dim, n_f))\n",
        "\n",
        "  # adds padding to the height and width but none to the number of channels\n",
        "  input_padded = np.pad(input, ((padding, padding), (padding, padding), (0, 0)), mode='constant', constant_values = (0,0))\n",
        "\n",
        "  # for every filter, performs the convolution by calculated the height/width start and ends and suming over their values to produce an output\n",
        "  for i in range(n_f):\n",
        "    for h in range(out_dim):\n",
        "      for w in range(out_dim):\n",
        "        h_start = h*stride\n",
        "        h_end = h_start + f\n",
        "        w_start = w*stride\n",
        "        w_end = w_start + f\n",
        "        output[h, w, i] = np.sum(input_padded[h_start:h_end, w_start:w_end, :] * filters[i]) + bias[i]\n",
        "\n",
        "  return output\n"
      ]
    },
    {
      "cell_type": "code",
      "source": [
        "# Example usage of conv2d function (Equal to first step in LeNet-5)\n",
        "input = np.random.randn(32, 32, 1)\n",
        "filters = np.random.randn(6, 5, 5, 1)\n",
        "bias = np.random.randn(6)\n",
        "output = conv2d(input, filters, bias, stride=1, padding=0)\n",
        "print(output.shape)\n",
        "# Expected Output: (28, 28, 6)"
      ],
      "metadata": {
        "colab": {
          "base_uri": "https://localhost:8080/"
        },
        "id": "NL8fGJeqMVnd",
        "outputId": "50e119d9-089f-4b27-ca52-e7084a1915e4"
      },
      "execution_count": null,
      "outputs": [
        {
          "output_type": "stream",
          "name": "stdout",
          "text": [
            "(28, 28, 6)\n"
          ]
        }
      ]
    },
    {
      "cell_type": "code",
      "source": [
        "def average_pooling(input, size=2, stride=2):\n",
        "  (in_dim, in_dim, n_c) = input.shape\n",
        "\n",
        "  out_dim = int((in_dim - size)/ stride) + 1\n",
        "\n",
        "  output = np.zeros((out_dim, out_dim, n_c))\n",
        "\n",
        "  for c in range(n_c):\n",
        "    for h in range(out_dim):\n",
        "      for w in range(out_dim):\n",
        "        h_start = h * stride\n",
        "        h_end = h_start + size\n",
        "        w_start = w * stride\n",
        "        w_end = w_start + size\n",
        "        output[h, w, c] = np.mean(input[h_start:h_end, w_start:w_end, c])\n",
        "\n",
        "  return output\n"
      ],
      "metadata": {
        "id": "_cdZ-BmLM597"
      },
      "execution_count": null,
      "outputs": []
    },
    {
      "cell_type": "code",
      "source": [
        "# Example usage after first convolution (Equal to second step in LeNet-5)\n",
        "input = np.random.randn(28, 28, 6)\n",
        "output = average_pooling(input, size=2, stride=2)\n",
        "print(output.shape)\n",
        "# Expected Output: (14, 14, 6)"
      ],
      "metadata": {
        "colab": {
          "base_uri": "https://localhost:8080/"
        },
        "id": "sQRAnSe_tfEE",
        "outputId": "aff2c7ae-0dcd-4707-9c5f-137ddc833fa0"
      },
      "execution_count": null,
      "outputs": [
        {
          "output_type": "stream",
          "name": "stdout",
          "text": [
            "(14, 14, 6)\n"
          ]
        }
      ]
    },
    {
      "cell_type": "code",
      "source": [
        "def fully_connected(input, weights, bias):\n",
        "  return np.dot(weights, input) + bias"
      ],
      "metadata": {
        "id": "qbMzXpaRt0J6"
      },
      "execution_count": null,
      "outputs": []
    },
    {
      "cell_type": "code",
      "source": [
        "# Example usage after flattening (Equal to second last step in LeNet-5)\n",
        "input = np.random.randn(120)\n",
        "weights = np.random.randn(84, 120)\n",
        "bias = np.random.randn(84)\n",
        "output = fully_connected(input, weights, bias)\n",
        "print(output.shape)\n",
        "# Expected Output: (84,)"
      ],
      "metadata": {
        "colab": {
          "base_uri": "https://localhost:8080/"
        },
        "id": "0MbhJ0oot-Yq",
        "outputId": "ff3061e9-fda1-4148-c64b-e7c1c98207a2"
      },
      "execution_count": null,
      "outputs": [
        {
          "output_type": "stream",
          "name": "stdout",
          "text": [
            "(84,)\n"
          ]
        }
      ]
    },
    {
      "cell_type": "code",
      "source": [
        "# Connecting developed functions into a class\n",
        "class LeNet5:\n",
        "    def __init__(self):\n",
        "        # randomly initialized weights and biases\n",
        "        self.conv1_filters = np.random.randn(6, 5, 5, 1)\n",
        "        self.conv1_bias = np.random.randn(6)\n",
        "\n",
        "        self.conv2_filters = np.random.randn(16, 5, 5, 1)\n",
        "        self.conv2_bias = np.random.randn(16)\n",
        "\n",
        "        self.conv3_filters = np.random.randn(120, 5, 5, 1)\n",
        "        self.conv3_bias = np.random.randn(120)\n",
        "\n",
        "        self.fc1_weights = np.random.randn(84, 120)\n",
        "        self.fc1_bias = np.random.randn(84)\n",
        "\n",
        "        self.fc2_weights = np.random.randn(10, 84)\n",
        "        self.fc2_bias = np.random.randn(10)\n",
        "\n",
        "    # forward propagation\n",
        "    def forward(self, x):\n",
        "        # first layer\n",
        "        x = conv2d(x, self.conv1_filters, self.conv1_bias, stride=1, padding=0)\n",
        "        x = np.tanh(x)\n",
        "        x = average_pooling(x, size=2, stride=2)\n",
        "\n",
        "        # second layer\n",
        "        x = conv2d(x, self.conv2_filters, self.conv2_bias, stride=1, padding=0)\n",
        "        x = np.tanh(x)\n",
        "        x = average_pooling(x, size=2, stride=2)\n",
        "\n",
        "        # third layer\n",
        "        x = conv2d(x, self.conv3_filters, self.conv3_bias, stride=1, padding=0)\n",
        "        x = np.tanh(x)\n",
        "\n",
        "        # flattening layer\n",
        "        x = x.flatten()\n",
        "\n",
        "        # fully connected layer\n",
        "        x = fully_connected(x, self.fc1_weights, self.fc1_bias)\n",
        "        x = np.tanh(x)\n",
        "\n",
        "        # output layer\n",
        "        x = fully_connected(x, self.fc2_weights, self.fc2_bias)\n",
        "        x = softmax(x)\n",
        "\n",
        "        return x\n",
        "\n",
        "def softmax(x):\n",
        "    exp_x = np.exp(x - np.max(x))\n",
        "    return exp_x / exp_x.sum(axis=0)\n",
        "\n",
        "# Create the model\n",
        "lenet5 = LeNet5()\n",
        "\n",
        "# Example input (32x32 grayscale image)\n",
        "input = np.random.randn(32, 32, 1)\n",
        "output = lenet5.forward(input)\n",
        "print(output)"
      ],
      "metadata": {
        "colab": {
          "base_uri": "https://localhost:8080/"
        },
        "id": "GDF_6TlwubPC",
        "outputId": "c3f3f363-e7cc-4d64-accc-7cbf5de852f4"
      },
      "execution_count": null,
      "outputs": [
        {
          "output_type": "stream",
          "name": "stdout",
          "text": [
            "[7.19463559e-06 1.22890605e-12 2.72176646e-03 2.33723429e-03\n",
            " 9.93731174e-01 9.70665888e-09 9.09720479e-04 2.72347045e-04\n",
            " 2.05530302e-05 2.93459152e-11]\n"
          ]
        }
      ]
    },
    {
      "cell_type": "code",
      "source": [
        "# Load MNIST data\n",
        "(train_images, train_labels), (test_images, test_labels) = mnist.load_data()\n",
        "\n",
        "# Normalize the images\n",
        "train_images = train_images / 255.0\n",
        "test_images = test_images / 255.0\n",
        "\n",
        "# Reshape the images to (32, 32, 1) to match the input shape of LeNet-5\n",
        "train_images = np.expand_dims(train_images, axis=-1)\n",
        "test_images = np.expand_dims(test_images, axis=-1)\n",
        "\n",
        "# Zero-pad the images to 32x32\n",
        "train_images = np.pad(train_images, ((0, 0), (2, 2), (2, 2), (0, 0)), mode='constant')\n",
        "test_images = np.pad(test_images, ((0, 0), (2, 2), (2, 2), (0, 0)), mode='constant')\n",
        "\n",
        "# Convert labels to one-hot encoding\n",
        "train_labels = to_categorical(train_labels, 10)\n",
        "test_labels = to_categorical(test_labels, 10)\n"
      ],
      "metadata": {
        "colab": {
          "base_uri": "https://localhost:8080/"
        },
        "id": "X-9DW_vfoS7Y",
        "outputId": "d74b3dfb-0a04-4cda-d80b-bf8b36a79856"
      },
      "execution_count": null,
      "outputs": [
        {
          "output_type": "stream",
          "name": "stdout",
          "text": [
            "Downloading data from https://storage.googleapis.com/tensorflow/tf-keras-datasets/mnist.npz\n",
            "11490434/11490434 [==============================] - 0s 0us/step\n"
          ]
        }
      ]
    },
    {
      "cell_type": "code",
      "source": [
        "# Forward pass on a single example and identify the predicted digit\n",
        "output = lenet5.forward(test_images[6])\n",
        "predicted_digit = np.argmax(output)  # Find the index of the highest probability\n",
        "\n",
        "plt.imshow(test_images[6].squeeze(), cmap='gray')\n",
        "plt.title(f\"Test Image [Predicted Digit: {predicted_digit}]\")\n",
        "plt.axis('off')\n",
        "plt.show()"
      ],
      "metadata": {
        "colab": {
          "base_uri": "https://localhost:8080/",
          "height": 428
        },
        "id": "J7nvkQ6xoYTa",
        "outputId": "a79a0355-9c87-4eab-8016-c1c87f30dc32"
      },
      "execution_count": null,
      "outputs": [
        {
          "output_type": "display_data",
          "data": {
            "text/plain": [
              "<Figure size 640x480 with 1 Axes>"
            ],
            "image/png": "[encoded data removed]"
          },
          "metadata": {}
        }
      ]
    }
  ]
}