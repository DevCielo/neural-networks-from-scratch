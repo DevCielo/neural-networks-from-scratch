{
  "nbformat": 4,
  "nbformat_minor": 0,
  "metadata": {
    "colab": {
      "provenance": [],
      "authorship_tag": "ABX9TyN4f9BZw0qpNDFEccB/IH5Z",
      "include_colab_link": true
    },
    "kernelspec": {
      "name": "python3",
      "display_name": "Python 3"
    },
    "language_info": {
      "name": "python"
    }
  },
  "cells": [
    {
      "cell_type": "markdown",
      "metadata": {
        "id": "view-in-github",
        "colab_type": "text"
      },
      "source": [
        "<a href=\"https://colab.research.google.com/github/DevCielo/neural-networks-from-scratch/blob/main/Neural_Networks_From_Scratch.ipynb\" target=\"_parent\"><img src=\"https://colab.research.google.com/assets/colab-badge.svg\" alt=\"Open In Colab\"/></a>"
      ]
    },
    {
      "cell_type": "markdown",
      "source": [
        "# **Bulding CNN's with tensorflow and from scratch**"
      ],
      "metadata": {
        "id": "myJdUFaNRmay"
      }
    },
    {
      "cell_type": "markdown",
      "source": [
        "# LeNet-5 with tensorflow\n"
      ],
      "metadata": {
        "id": "5q8rR2OMR2-k"
      }
    },
    {
      "cell_type": "code",
      "source": [
        "import tensorflow as tf\n",
        "\n",
        "def LeNet5():\n",
        "  model = tf.keras.Sequential([\n",
        "      # Convolution Layer\n",
        "      tf.keras.layers.Conv2D(6, (5, 5), activation='tanh', strides=(1, 1), padding='valid', name='conv0'),\n",
        "      # Average Pooling Layer\n",
        "      tf.keras.layers.AveragePooling2D((2,2), strides=(2,2), name='avg_pool0'),\n",
        "      # Convolution Layer\n",
        "      tf.keras.layers.Conv2D(16, (5, 5), strides=(1,1), padding='valid', activation='tanh', name='conv1'),\n",
        "      # Average Pooling Layer\n",
        "      tf.keras.layers.AveragePooling2D((2,2), strides=(2,2), name='avg_pool1'),\n",
        "      # Convolution Layer\n",
        "      tf.keras.layers.Conv2D(120, (5, 5), strides=(1, 1), padding='valid', activation='tanh', name='conv2'),\n",
        "      # Flatten the output\n",
        "      tf.keras.layers.Flatten(),\n",
        "      # Fully Connected Layer\n",
        "      tf.keras.layers.Dense(84, activation='tanh', name='fc1'),\n",
        "      tf.keras.layers.Dense(10, activation='softmax', name='output'),\n",
        "  ])\n",
        "\n",
        "  return model"
      ],
      "metadata": {
        "id": "pqia4OT9OKQ9"
      },
      "execution_count": null,
      "outputs": []
    },
    {
      "cell_type": "markdown",
      "source": [
        "# LeNet-5 from scratch"
      ],
      "metadata": {
        "id": "mHwu9zjpSBUv"
      }
    },
    {
      "cell_type": "code",
      "source": [
        "# Ensure you run this line\n",
        "import numpy as np"
      ],
      "metadata": {
        "id": "58qupsZMtmC8"
      },
      "execution_count": 4,
      "outputs": []
    },
    {
      "cell_type": "code",
      "execution_count": 5,
      "metadata": {
        "id": "P_8A0CJOOIxv"
      },
      "outputs": [],
      "source": [
        "def conv2d(input, filters, bias, stride=1, padding=0):\n",
        "  # decompose the filters shape into the filter size (f) and the number of filters (n_f)\n",
        "  (n_f, f, f) = filters.shape\n",
        "  # decomposes the input shape into the input dimensions (in_dim) and the number of channels (n_c)\n",
        "  (in_dim, in_dim, n_c) = input.shape\n",
        "\n",
        "  # calculates the output dimensions using formula ((n+2p-f)/s + 1)\n",
        "  # int to floor function\n",
        "  out_dim = int((in_dim + 2*padding-f)/stride) + 1\n",
        "\n",
        "  # sets the new output shape to be out_dim*out_dim*n_f\n",
        "  output = np.zeros((out_dim, out_dim, n_f))\n",
        "\n",
        "  # adds padding to the height and width but none to the number of channels\n",
        "  input_padded = np.pad(input, ((padding, padding), (padding, padding), (0, 0)), mode='constant', constant_values = (0,0))\n",
        "\n",
        "  # for every filter, performs the convolution by calculated the height/width start and ends and suming over their values to produce an output\n",
        "  for i in range(n_f):\n",
        "    for h in range(out_dim):\n",
        "      for w in range(out_dim):\n",
        "        h_start = h*stride\n",
        "        h_end = h_start + f\n",
        "        w_start = w*stride\n",
        "        w_end = w_start + f\n",
        "        output[h, w, i] = np.sum(input_padded[h_start:h_end, w_start:w_end, :] * filters[i]) + bias[i]\n",
        "\n",
        "  return output\n"
      ]
    },
    {
      "cell_type": "code",
      "source": [
        "# Example usage of conv2d function (Equal to first step in LeNet-5)\n",
        "input = np.random.randn(32, 32, 1)\n",
        "filters = np.random.randn(6, 5, 5)\n",
        "bias = np.random.randn(6)\n",
        "output = conv2d(input, filters, bias, stride=1, padding=0)\n",
        "print(output.shape)\n",
        "# Expected Output: (28, 28, 6)"
      ],
      "metadata": {
        "colab": {
          "base_uri": "https://localhost:8080/"
        },
        "id": "NL8fGJeqMVnd",
        "outputId": "69eeae2b-e37f-41ea-ceac-a6dde705208f"
      },
      "execution_count": 6,
      "outputs": [
        {
          "output_type": "stream",
          "name": "stdout",
          "text": [
            "(28, 28, 6)\n"
          ]
        }
      ]
    },
    {
      "cell_type": "code",
      "source": [
        "def average_pooling(input, size=2, stride=2):\n",
        "  # decompose the input shape\n",
        "  (in_dim, in_dim, n_c) = input.shape\n",
        "\n",
        "  out_dim = int((in_dim - size)/ stride) + 1\n",
        "\n",
        "  output = np.zeros((out_dim, out_dim, n_c))\n",
        "\n",
        "  for c in range(n_c):\n",
        "    for h in range(out_dim):\n",
        "      for w in range(out_dim):\n",
        "        h_start = h * stride\n",
        "        h_end = h_start + size\n",
        "        w_start = w * stride\n",
        "        w_end = w_start + size\n",
        "        output[h, w, c] = np.mean(input[h_start:h_end, w_start:w_end, c])\n",
        "\n",
        "  return output\n"
      ],
      "metadata": {
        "id": "_cdZ-BmLM597"
      },
      "execution_count": 9,
      "outputs": []
    },
    {
      "cell_type": "code",
      "source": [
        "# Example usage after first convolution (Equal to second step in LeNet-5)\n",
        "input = np.random.randn(28, 28, 6)\n",
        "output = average_pooling(input, size=2, stride=2)\n",
        "print(output.shape)\n",
        "# Expected Output: (14, 14, 6)"
      ],
      "metadata": {
        "colab": {
          "base_uri": "https://localhost:8080/"
        },
        "id": "sQRAnSe_tfEE",
        "outputId": "22540812-aa02-48fd-b2c3-552b37ba49d7"
      },
      "execution_count": 10,
      "outputs": [
        {
          "output_type": "stream",
          "name": "stdout",
          "text": [
            "(14, 14, 6)\n"
          ]
        }
      ]
    },
    {
      "cell_type": "code",
      "source": [
        "def fully_connected(input, weights, bias):\n",
        "  return np.dot(weights, input) + bias"
      ],
      "metadata": {
        "id": "qbMzXpaRt0J6"
      },
      "execution_count": 13,
      "outputs": []
    },
    {
      "cell_type": "code",
      "source": [
        "# Example usage after flattening (Equal to second last step in LeNet-5)\n",
        "input = np.random.randn(120)\n",
        "weights = np.random.randn(84, 120)\n",
        "bias = np.random.randn(84)\n",
        "output = fully_connected(input, weights, bias)\n",
        "print(output.shape)\n",
        "# Expected Output: (84,)"
      ],
      "metadata": {
        "colab": {
          "base_uri": "https://localhost:8080/"
        },
        "id": "0MbhJ0oot-Yq",
        "outputId": "418ad282-e6f2-4444-9fcd-48e48ef39cb1"
      },
      "execution_count": 15,
      "outputs": [
        {
          "output_type": "stream",
          "name": "stdout",
          "text": [
            "(84,)\n"
          ]
        }
      ]
    },
    {
      "cell_type": "code",
      "source": [
        "# Connecting developed functions into a class\n",
        "class LeNet5:\n",
        "    def __init__(self):\n",
        "        self.conv1_filters = np.random.randn(6, 5, 5)\n",
        "        self.conv1_bias = np.random.randn(6)\n",
        "\n",
        "        self.conv2_filters = np.random.randn(16, 5, 5)\n",
        "        self.conv2_bias = np.random.randn(16)\n",
        "\n",
        "        self.conv3_filters = np.random.randn(120, 5, 5)\n",
        "        self.conv3_bias = np.random.randn(120)\n",
        "\n",
        "        self.fc1_weights = np.random.randn(84, 120)\n",
        "        self.fc1_bias = np.random.randn(84)\n",
        "\n",
        "        self.fc2_weights = np.random.randn(10, 84)\n",
        "        self.fc2_bias = np.random.randn(10)\n",
        "\n",
        "    # forward propagation\n",
        "    def forward(self, x):\n",
        "        # first layer\n",
        "        x = conv2d(x, self.conv1_filters, self.conv1_bias, stride=1, padding=0)\n",
        "        x = np.tanh(x)\n",
        "        x = average_pooling(x, size=2, stride=2)\n",
        "\n",
        "        # second layer\n",
        "        x = conv2d(x, self.conv2_filters, self.conv2_bias, stride=1, padding=0)\n",
        "        x = np.tanh(x)\n",
        "        x = average_pooling(x, size=2, stride=2)\n",
        "\n",
        "        # third layer\n",
        "        x = conv2d(x, self.conv3_filters, self.conv3_bias, stride=1, padding=0)\n",
        "        x = np.tanh(x)\n",
        "\n",
        "        # flattening layer\n",
        "        x = x.flatten()\n",
        "\n",
        "        # fully connected layer\n",
        "        x = fully_connected(x, self.fc1_weights, self.fc1_bias)\n",
        "        x = np.tanh(x)\n",
        "\n",
        "        # output layer\n",
        "        x = fully_connected(x, self.fc2_weights, self.fc2_bias)\n",
        "        x = softmax(x)\n",
        "\n",
        "        return x\n",
        "\n",
        "def softmax(x):\n",
        "    exp_x = np.exp(x - np.max(x))\n",
        "    return exp_x / exp_x.sum(axis=0)\n",
        "\n",
        "# Create the model\n",
        "lenet5 = LeNet5()\n",
        "\n",
        "# Example input (32x32 grayscale image)\n",
        "input = np.random.randn(32, 32, 1)\n",
        "output = lenet5.forward(input)\n",
        "print(output)"
      ],
      "metadata": {
        "colab": {
          "base_uri": "https://localhost:8080/",
          "height": 333
        },
        "id": "GDF_6TlwubPC",
        "outputId": "12877c47-5fe0-448c-86c0-db7b669290cf"
      },
      "execution_count": 16,
      "outputs": [
        {
          "output_type": "error",
          "ename": "ValueError",
          "evalue": "operands could not be broadcast together with shapes (5,5,6) (5,5) ",
          "traceback": [
            "\u001b[0;31m---------------------------------------------------------------------------\u001b[0m",
            "\u001b[0;31mValueError\u001b[0m                                Traceback (most recent call last)",
            "\u001b[0;32m<ipython-input-16-cc4148b08ac9>\u001b[0m in \u001b[0;36m<cell line: 50>\u001b[0;34m()\u001b[0m\n\u001b[1;32m     48\u001b[0m \u001b[0;31m# Example input (32x32 grayscale image)\u001b[0m\u001b[0;34m\u001b[0m\u001b[0;34m\u001b[0m\u001b[0m\n\u001b[1;32m     49\u001b[0m \u001b[0minput\u001b[0m \u001b[0;34m=\u001b[0m \u001b[0mnp\u001b[0m\u001b[0;34m.\u001b[0m\u001b[0mrandom\u001b[0m\u001b[0;34m.\u001b[0m\u001b[0mrandn\u001b[0m\u001b[0;34m(\u001b[0m\u001b[0;36m32\u001b[0m\u001b[0;34m,\u001b[0m \u001b[0;36m32\u001b[0m\u001b[0;34m,\u001b[0m \u001b[0;36m1\u001b[0m\u001b[0;34m)\u001b[0m\u001b[0;34m\u001b[0m\u001b[0;34m\u001b[0m\u001b[0m\n\u001b[0;32m---> 50\u001b[0;31m \u001b[0moutput\u001b[0m \u001b[0;34m=\u001b[0m \u001b[0mlenet5\u001b[0m\u001b[0;34m.\u001b[0m\u001b[0mforward\u001b[0m\u001b[0;34m(\u001b[0m\u001b[0minput\u001b[0m\u001b[0;34m)\u001b[0m\u001b[0;34m\u001b[0m\u001b[0;34m\u001b[0m\u001b[0m\n\u001b[0m\u001b[1;32m     51\u001b[0m \u001b[0mprint\u001b[0m\u001b[0;34m(\u001b[0m\u001b[0moutput\u001b[0m\u001b[0;34m)\u001b[0m\u001b[0;34m\u001b[0m\u001b[0;34m\u001b[0m\u001b[0m\n",
            "\u001b[0;32m<ipython-input-16-cc4148b08ac9>\u001b[0m in \u001b[0;36mforward\u001b[0;34m(self, x)\u001b[0m\n\u001b[1;32m     22\u001b[0m         \u001b[0mx\u001b[0m \u001b[0;34m=\u001b[0m \u001b[0maverage_pooling\u001b[0m\u001b[0;34m(\u001b[0m\u001b[0mx\u001b[0m\u001b[0;34m,\u001b[0m \u001b[0msize\u001b[0m\u001b[0;34m=\u001b[0m\u001b[0;36m2\u001b[0m\u001b[0;34m,\u001b[0m \u001b[0mstride\u001b[0m\u001b[0;34m=\u001b[0m\u001b[0;36m2\u001b[0m\u001b[0;34m)\u001b[0m\u001b[0;34m\u001b[0m\u001b[0;34m\u001b[0m\u001b[0m\n\u001b[1;32m     23\u001b[0m \u001b[0;34m\u001b[0m\u001b[0m\n\u001b[0;32m---> 24\u001b[0;31m         \u001b[0mx\u001b[0m \u001b[0;34m=\u001b[0m \u001b[0mconv2d\u001b[0m\u001b[0;34m(\u001b[0m\u001b[0mx\u001b[0m\u001b[0;34m,\u001b[0m \u001b[0mself\u001b[0m\u001b[0;34m.\u001b[0m\u001b[0mconv2_filters\u001b[0m\u001b[0;34m,\u001b[0m \u001b[0mself\u001b[0m\u001b[0;34m.\u001b[0m\u001b[0mconv2_bias\u001b[0m\u001b[0;34m,\u001b[0m \u001b[0mstride\u001b[0m\u001b[0;34m=\u001b[0m\u001b[0;36m1\u001b[0m\u001b[0;34m,\u001b[0m \u001b[0mpadding\u001b[0m\u001b[0;34m=\u001b[0m\u001b[0;36m0\u001b[0m\u001b[0;34m)\u001b[0m\u001b[0;34m\u001b[0m\u001b[0;34m\u001b[0m\u001b[0m\n\u001b[0m\u001b[1;32m     25\u001b[0m         \u001b[0mx\u001b[0m \u001b[0;34m=\u001b[0m \u001b[0mnp\u001b[0m\u001b[0;34m.\u001b[0m\u001b[0mtanh\u001b[0m\u001b[0;34m(\u001b[0m\u001b[0mx\u001b[0m\u001b[0;34m)\u001b[0m\u001b[0;34m\u001b[0m\u001b[0;34m\u001b[0m\u001b[0m\n\u001b[1;32m     26\u001b[0m         \u001b[0mx\u001b[0m \u001b[0;34m=\u001b[0m \u001b[0maverage_pooling\u001b[0m\u001b[0;34m(\u001b[0m\u001b[0mx\u001b[0m\u001b[0;34m,\u001b[0m \u001b[0msize\u001b[0m\u001b[0;34m=\u001b[0m\u001b[0;36m2\u001b[0m\u001b[0;34m,\u001b[0m \u001b[0mstride\u001b[0m\u001b[0;34m=\u001b[0m\u001b[0;36m2\u001b[0m\u001b[0;34m)\u001b[0m\u001b[0;34m\u001b[0m\u001b[0;34m\u001b[0m\u001b[0m\n",
            "\u001b[0;32m<ipython-input-5-cffbee3799c7>\u001b[0m in \u001b[0;36mconv2d\u001b[0;34m(input, filters, bias, stride, padding)\u001b[0m\n\u001b[1;32m     23\u001b[0m         \u001b[0mw_start\u001b[0m \u001b[0;34m=\u001b[0m \u001b[0mw\u001b[0m\u001b[0;34m*\u001b[0m\u001b[0mstride\u001b[0m\u001b[0;34m\u001b[0m\u001b[0;34m\u001b[0m\u001b[0m\n\u001b[1;32m     24\u001b[0m         \u001b[0mw_end\u001b[0m \u001b[0;34m=\u001b[0m \u001b[0mw_start\u001b[0m \u001b[0;34m+\u001b[0m \u001b[0mf\u001b[0m\u001b[0;34m\u001b[0m\u001b[0;34m\u001b[0m\u001b[0m\n\u001b[0;32m---> 25\u001b[0;31m         \u001b[0moutput\u001b[0m\u001b[0;34m[\u001b[0m\u001b[0mh\u001b[0m\u001b[0;34m,\u001b[0m \u001b[0mw\u001b[0m\u001b[0;34m,\u001b[0m \u001b[0mi\u001b[0m\u001b[0;34m]\u001b[0m \u001b[0;34m=\u001b[0m \u001b[0mnp\u001b[0m\u001b[0;34m.\u001b[0m\u001b[0msum\u001b[0m\u001b[0;34m(\u001b[0m\u001b[0minput_padded\u001b[0m\u001b[0;34m[\u001b[0m\u001b[0mh_start\u001b[0m\u001b[0;34m:\u001b[0m\u001b[0mh_end\u001b[0m\u001b[0;34m,\u001b[0m \u001b[0mw_start\u001b[0m\u001b[0;34m:\u001b[0m\u001b[0mw_end\u001b[0m\u001b[0;34m,\u001b[0m \u001b[0;34m:\u001b[0m\u001b[0;34m]\u001b[0m \u001b[0;34m*\u001b[0m \u001b[0mfilters\u001b[0m\u001b[0;34m[\u001b[0m\u001b[0mi\u001b[0m\u001b[0;34m]\u001b[0m\u001b[0;34m)\u001b[0m \u001b[0;34m+\u001b[0m \u001b[0mbias\u001b[0m\u001b[0;34m[\u001b[0m\u001b[0mi\u001b[0m\u001b[0;34m]\u001b[0m\u001b[0;34m\u001b[0m\u001b[0;34m\u001b[0m\u001b[0m\n\u001b[0m\u001b[1;32m     26\u001b[0m \u001b[0;34m\u001b[0m\u001b[0m\n\u001b[1;32m     27\u001b[0m   \u001b[0;32mreturn\u001b[0m \u001b[0moutput\u001b[0m\u001b[0;34m\u001b[0m\u001b[0;34m\u001b[0m\u001b[0m\n",
            "\u001b[0;31mValueError\u001b[0m: operands could not be broadcast together with shapes (5,5,6) (5,5) "
          ]
        }
      ]
    }
  ]
}