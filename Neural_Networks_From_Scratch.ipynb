{
  "nbformat": 4,
  "nbformat_minor": 0,
  "metadata": {
    "colab": {
      "provenance": [],
      "authorship_tag": "ABX9TyNFjEE6G/1gzwN00qzMkEfe",
      "include_colab_link": true
    },
    "kernelspec": {
      "name": "python3",
      "display_name": "Python 3"
    },
    "language_info": {
      "name": "python"
    }
  },
  "cells": [
    {
      "cell_type": "markdown",
      "metadata": {
        "id": "view-in-github",
        "colab_type": "text"
      },
      "source": [
        "<a href=\"https://colab.research.google.com/github/DevCielo/neural-networks-from-scratch/blob/main/Neural_Networks_From_Scratch.ipynb\" target=\"_parent\"><img src=\"https://colab.research.google.com/assets/colab-badge.svg\" alt=\"Open In Colab\"/></a>"
      ]
    },
    {
      "cell_type": "markdown",
      "source": [
        "# **Bulding CNN's with tensorflow and from scratch**"
      ],
      "metadata": {
        "id": "myJdUFaNRmay"
      }
    },
    {
      "cell_type": "markdown",
      "source": [
        "# LeNet-5 with tensorflow\n"
      ],
      "metadata": {
        "id": "5q8rR2OMR2-k"
      }
    },
    {
      "cell_type": "code",
      "source": [
        "import tensorflow as tf\n",
        "\n",
        "def LeNet5():\n",
        "  model = tf.keras.Sequential([\n",
        "      # Convolution Layer\n",
        "      tf.keras.layers.Conv2D(6, (5, 5), activation='tanh' strides=(1, 1), padding='valid' name='conv0')\n",
        "      # Average Pooling Layer\n",
        "      tf.keras.layers.AveragePooling2D((2,2), strides=(2,2) name='avg_pool0')\n",
        "      # Convolution Layer\n",
        "      tf.keras.layers.Conv2D(16, (5, 5), strides=(1,1), padding='valid', activation='tanh' name='conv1')\n",
        "      # Average Pooling Layer\n",
        "      tf.keras.layers.AveragePooling2D((2,2), strides=(2,2) name='avg_pool1')\n",
        "      # Convolution Layer\n",
        "      tf.keras.layers.Conv2D(120, (5, 5), strides=(1, 1), padding='valid', activation='tanh', name='conv2'),\n",
        "      # Flatten the output\n",
        "      tf.keras.layers.Flatten(),\n",
        "      # Fully Connected Layer\n",
        "      tf.keras.layers.Dense(84, activation='tanh', name='fc1')\n",
        "      tf.keras.layers.Dense(10, activation='softmax', name='output')\n",
        "  ])"
      ],
      "metadata": {
        "id": "pqia4OT9OKQ9"
      },
      "execution_count": null,
      "outputs": []
    },
    {
      "cell_type": "markdown",
      "source": [
        "# LeNet-5 from scratch"
      ],
      "metadata": {
        "id": "mHwu9zjpSBUv"
      }
    },
    {
      "cell_type": "code",
      "execution_count": null,
      "metadata": {
        "id": "P_8A0CJOOIxv"
      },
      "outputs": [],
      "source": []
    }
  ]
}