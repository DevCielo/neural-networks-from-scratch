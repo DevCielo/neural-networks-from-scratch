{
  "nbformat": 4,
  "nbformat_minor": 0,
  "metadata": {
    "colab": {
      "provenance": [],
      "gpuType": "T4",
      "authorship_tag": "ABX9TyN+Y05Szt5dDlR0j/mLMTC7",
      "include_colab_link": true
    },
    "kernelspec": {
      "name": "python3",
      "display_name": "Python 3"
    },
    "language_info": {
      "name": "python"
    },
    "accelerator": "GPU"
  },
  "cells": [
    {
      "cell_type": "markdown",
      "metadata": {
        "id": "view-in-github",
        "colab_type": "text"
      },
      "source": [
        "<a href=\"https://colab.research.google.com/github/DevCielo/neural-networks-from-scratch/blob/main/Neural_Networks_From_Scratch.ipynb\" target=\"_parent\"><img src=\"https://colab.research.google.com/assets/colab-badge.svg\" alt=\"Open In Colab\"/></a>"
      ]
    },
    {
      "cell_type": "markdown",
      "source": [
        "# **Bulding CNN's with tensorflow and from scratch**"
      ],
      "metadata": {
        "id": "myJdUFaNRmay"
      }
    },
    {
      "cell_type": "code",
      "source": [
        "import tensorflow as tf\n",
        "from tensorflow.keras.datasets import mnist\n",
        "from tensorflow.keras.utils import to_categorical\n",
        "import matplotlib.pyplot as plt\n",
        "import numpy as np"
      ],
      "metadata": {
        "id": "knBJgqpJtGEI"
      },
      "execution_count": 1,
      "outputs": []
    },
    {
      "cell_type": "markdown",
      "source": [
        "# LeNet-5 with tensorflow\n"
      ],
      "metadata": {
        "id": "5q8rR2OMR2-k"
      }
    },
    {
      "cell_type": "code",
      "source": [
        "def LeNet5():\n",
        "  model = tf.keras.Sequential([\n",
        "      # Convolution Layer\n",
        "      tf.keras.layers.Conv2D(6, (5, 5), activation='tanh', strides=(1, 1), padding='valid', name='conv0'),\n",
        "      # Average Pooling Layer\n",
        "      tf.keras.layers.AveragePooling2D((2,2), strides=(2,2), name='avg_pool0'),\n",
        "      # Convolution Layer\n",
        "      tf.keras.layers.Conv2D(16, (5, 5), strides=(1,1), padding='valid', activation='tanh', name='conv1'),\n",
        "      # Average Pooling Layer\n",
        "      tf.keras.layers.AveragePooling2D((2,2), strides=(2,2), name='avg_pool1'),\n",
        "      # Convolution Layer\n",
        "      tf.keras.layers.Conv2D(120, (5, 5), strides=(1, 1), padding='valid', activation='tanh', name='conv2'),\n",
        "      # Flatten the output\n",
        "      tf.keras.layers.Flatten(),\n",
        "      # Fully Connected Layer\n",
        "      tf.keras.layers.Dense(84, activation='tanh', name='fc1'),\n",
        "      tf.keras.layers.Dense(10, activation='softmax', name='output'),\n",
        "  ])\n",
        "\n",
        "  return model"
      ],
      "metadata": {
        "id": "pqia4OT9OKQ9"
      },
      "execution_count": 2,
      "outputs": []
    },
    {
      "cell_type": "code",
      "source": [
        "# Load and preprocess the MNIST dataset\n",
        "(train_images, train_labels), (test_images, test_labels) = mnist.load_data()\n",
        "\n",
        "# Normalize the images\n",
        "train_images = train_images / 255.0\n",
        "test_images = test_images / 255.0\n",
        "\n",
        "# Reshape the images to (32, 32, 1) to match the input shape of LeNet-5\n",
        "train_images = np.expand_dims(train_images, axis=-1)\n",
        "test_images = np.expand_dims(test_images, axis=-1)\n",
        "\n",
        "# Zero-pad the images to 32x32\n",
        "train_images = np.pad(train_images, ((0, 0), (2, 2), (2, 2), (0, 0)), mode='constant')\n",
        "test_images = np.pad(test_images, ((0, 0), (2, 2), (2, 2), (0, 0)), mode='constant')\n",
        "\n",
        "# Convert labels to one-hot encoding\n",
        "train_labels = to_categorical(train_labels, 10)\n",
        "test_labels = to_categorical(test_labels, 10)\n",
        "\n",
        "# Create the model\n",
        "model = LeNet5()\n",
        "\n",
        "# Compile the model\n",
        "model.compile(optimizer='adam', loss='categorical_crossentropy', metrics=['accuracy'])\n",
        "\n",
        "# Train the model\n",
        "history = model.fit(train_images, train_labels, epochs=10, batch_size=64, validation_split=0.1)\n",
        "\n",
        "# Evaluate the model on the test set\n",
        "test_loss, test_acc = model.evaluate(test_images, test_labels)\n",
        "print(f\"Test accuracy: {test_acc}\")\n",
        "\n",
        "# Make a prediction on the first test image\n",
        "prediction = model.predict(test_images[0:1])\n",
        "predicted_digit = np.argmax(prediction)\n",
        "print(f\"Predicted digit: {predicted_digit}\")\n",
        "\n",
        "# Show the test image\n",
        "plt.imshow(test_images[0].squeeze(), cmap='gray')\n",
        "plt.title(f\"Test Image [Predicted Digit: {predicted_digit}]\")\n",
        "plt.axis('off')\n",
        "plt.show()"
      ],
      "metadata": {
        "colab": {
          "base_uri": "https://localhost:8080/",
          "height": 870
        },
        "id": "T7_mCOpCtOO-",
        "outputId": "c64a5a75-5776-4553-8e0d-d38ed85db4ef"
      },
      "execution_count": 3,
      "outputs": [
        {
          "output_type": "stream",
          "name": "stdout",
          "text": [
            "Downloading data from https://storage.googleapis.com/tensorflow/tf-keras-datasets/mnist.npz\n",
            "\u001b[1m11490434/11490434\u001b[0m \u001b[32m━━━━━━━━━━━━━━━━━━━━\u001b[0m\u001b[37m\u001b[0m \u001b[1m2s\u001b[0m 0us/step\n",
            "Epoch 1/10\n",
            "\u001b[1m844/844\u001b[0m \u001b[32m━━━━━━━━━━━━━━━━━━━━\u001b[0m\u001b[37m\u001b[0m \u001b[1m12s\u001b[0m 6ms/step - accuracy: 0.8528 - loss: 0.5322 - val_accuracy: 0.9705 - val_loss: 0.1085\n",
            "Epoch 2/10\n",
            "\u001b[1m844/844\u001b[0m \u001b[32m━━━━━━━━━━━━━━━━━━━━\u001b[0m\u001b[37m\u001b[0m \u001b[1m3s\u001b[0m 3ms/step - accuracy: 0.9639 - loss: 0.1178 - val_accuracy: 0.9777 - val_loss: 0.0751\n",
            "Epoch 3/10\n",
            "\u001b[1m844/844\u001b[0m \u001b[32m━━━━━━━━━━━━━━━━━━━━\u001b[0m\u001b[37m\u001b[0m \u001b[1m5s\u001b[0m 3ms/step - accuracy: 0.9780 - loss: 0.0725 - val_accuracy: 0.9815 - val_loss: 0.0641\n",
            "Epoch 4/10\n",
            "\u001b[1m844/844\u001b[0m \u001b[32m━━━━━━━━━━━━━━━━━━━━\u001b[0m\u001b[37m\u001b[0m \u001b[1m3s\u001b[0m 3ms/step - accuracy: 0.9852 - loss: 0.0492 - val_accuracy: 0.9827 - val_loss: 0.0581\n",
            "Epoch 5/10\n",
            "\u001b[1m844/844\u001b[0m \u001b[32m━━━━━━━━━━━━━━━━━━━━\u001b[0m\u001b[37m\u001b[0m \u001b[1m2s\u001b[0m 3ms/step - accuracy: 0.9874 - loss: 0.0402 - val_accuracy: 0.9828 - val_loss: 0.0578\n",
            "Epoch 6/10\n",
            "\u001b[1m844/844\u001b[0m \u001b[32m━━━━━━━━━━━━━━━━━━━━\u001b[0m\u001b[37m\u001b[0m \u001b[1m3s\u001b[0m 3ms/step - accuracy: 0.9892 - loss: 0.0346 - val_accuracy: 0.9838 - val_loss: 0.0564\n",
            "Epoch 7/10\n",
            "\u001b[1m844/844\u001b[0m \u001b[32m━━━━━━━━━━━━━━━━━━━━\u001b[0m\u001b[37m\u001b[0m \u001b[1m2s\u001b[0m 3ms/step - accuracy: 0.9924 - loss: 0.0242 - val_accuracy: 0.9857 - val_loss: 0.0531\n",
            "Epoch 8/10\n",
            "\u001b[1m844/844\u001b[0m \u001b[32m━━━━━━━━━━━━━━━━━━━━\u001b[0m\u001b[37m\u001b[0m \u001b[1m3s\u001b[0m 3ms/step - accuracy: 0.9939 - loss: 0.0204 - val_accuracy: 0.9832 - val_loss: 0.0652\n",
            "Epoch 9/10\n",
            "\u001b[1m844/844\u001b[0m \u001b[32m━━━━━━━━━━━━━━━━━━━━\u001b[0m\u001b[37m\u001b[0m \u001b[1m2s\u001b[0m 3ms/step - accuracy: 0.9943 - loss: 0.0174 - val_accuracy: 0.9863 - val_loss: 0.0521\n",
            "Epoch 10/10\n",
            "\u001b[1m844/844\u001b[0m \u001b[32m━━━━━━━━━━━━━━━━━━━━\u001b[0m\u001b[37m\u001b[0m \u001b[1m2s\u001b[0m 3ms/step - accuracy: 0.9950 - loss: 0.0152 - val_accuracy: 0.9858 - val_loss: 0.0509\n",
            "\u001b[1m313/313\u001b[0m \u001b[32m━━━━━━━━━━━━━━━━━━━━\u001b[0m\u001b[37m\u001b[0m \u001b[1m2s\u001b[0m 4ms/step - accuracy: 0.9803 - loss: 0.0673\n",
            "Test accuracy: 0.983299970626831\n",
            "\u001b[1m1/1\u001b[0m \u001b[32m━━━━━━━━━━━━━━━━━━━━\u001b[0m\u001b[37m\u001b[0m \u001b[1m0s\u001b[0m 387ms/step\n",
            "Predicted digit: 7\n"
          ]
        },
        {
          "output_type": "display_data",
          "data": {
            "text/plain": [
              "<Figure size 640x480 with 1 Axes>"
            ],
            "image/png": "[encoded data removed]"
          },
          "metadata": {}
        }
      ]
    },
    {
      "cell_type": "code",
      "source": [
        "# Plot the training and validation accuracy and loss\n",
        "fig, (ax1, ax2) = plt.subplots(1, 2, figsize=(14, 5))\n",
        "\n",
        "# Plot accuracy\n",
        "ax1.plot(history.history['accuracy'], label='Train Accuracy')\n",
        "ax1.plot(history.history['val_accuracy'], label='Val Accuracy')\n",
        "ax1.set_title('Accuracy over Epochs')\n",
        "ax1.set_xlabel('Epochs')\n",
        "ax1.set_ylabel('Accuracy')\n",
        "ax1.legend()\n",
        "\n",
        "# Plot loss\n",
        "ax2.plot(history.history['loss'], label='Train Loss')\n",
        "ax2.plot(history.history['val_loss'], label='Val Loss')\n",
        "ax2.set_title('Loss over Epochs')\n",
        "ax2.set_xlabel('Epochs')\n",
        "ax2.set_ylabel('Loss')\n",
        "ax2.legend()\n",
        "\n",
        "plt.show()"
      ],
      "metadata": {
        "colab": {
          "base_uri": "https://localhost:8080/",
          "height": 487
        },
        "id": "nPyKKKorts09",
        "outputId": "82134872-7e4a-4396-8233-30b5110abc66"
      },
      "execution_count": 4,
      "outputs": [
        {
          "output_type": "display_data",
          "data": {
            "text/plain": [
              "<Figure size 1400x500 with 2 Axes>"
            ],
            "image/png": "[encoded data removed]"
          },
          "metadata": {}
        }
      ]
    },
    {
      "cell_type": "markdown",
      "source": [
        "# LeNet-5 from scratch"
      ],
      "metadata": {
        "id": "mHwu9zjpSBUv"
      }
    },
    {
      "cell_type": "code",
      "execution_count": 5,
      "metadata": {
        "id": "P_8A0CJOOIxv"
      },
      "outputs": [],
      "source": [
        "def conv2d(input, filters, bias, stride=1, padding=0):\n",
        "    (n_f, f, f, n_c) = filters.shape\n",
        "    (in_dim, in_dim, n_c_in) = input.shape\n",
        "    out_dim = int((in_dim + 2*padding - f) / stride) + 1\n",
        "    output = np.zeros((out_dim, out_dim, n_f))\n",
        "    input_padded = np.pad(input, ((padding, padding), (padding, padding), (0, 0)), mode='constant', constant_values=0)\n",
        "    for i in range(n_f):\n",
        "        for h in range(out_dim):\n",
        "            for w in range(out_dim):\n",
        "                h_start = h * stride\n",
        "                h_end = h_start + f\n",
        "                w_start = w * stride\n",
        "                w_end = w_start + f\n",
        "                output[h, w, i] = np.sum(input_padded[h_start:h_end, w_start:w_end, :] * filters[i]) + bias[i]\n",
        "    return output\n"
      ]
    },
    {
      "cell_type": "code",
      "source": [
        "# Example usage of conv2d function (Equal to first step in LeNet-5)\n",
        "input = np.random.randn(32, 32, 1)\n",
        "filters = np.random.randn(6, 5, 5, 1)\n",
        "bias = np.random.randn(6)\n",
        "output = conv2d(input, filters, bias, stride=1, padding=0)\n",
        "print(output.shape)\n",
        "# Expected Output: (28, 28, 6)"
      ],
      "metadata": {
        "colab": {
          "base_uri": "https://localhost:8080/"
        },
        "id": "NL8fGJeqMVnd",
        "outputId": "79f99871-08a6-4bc6-b593-7661b5227b7e"
      },
      "execution_count": 6,
      "outputs": [
        {
          "output_type": "stream",
          "name": "stdout",
          "text": [
            "(28, 28, 6)\n"
          ]
        }
      ]
    },
    {
      "cell_type": "code",
      "source": [
        "def conv2d_backward(d_out, input, filters, stride=1, padding=0):\n",
        "    (n_f, f, f, n_c) = filters.shape\n",
        "    (in_dim, in_dim, n_c_in) = input.shape\n",
        "    out_dim = d_out.shape[0]\n",
        "    input_padded = np.pad(input, ((padding, padding), (padding, padding), (0, 0)), mode='constant', constant_values=0)\n",
        "    d_input_padded = np.zeros_like(input_padded)\n",
        "    d_filters = np.zeros_like(filters)\n",
        "    d_bias = np.zeros((n_f,))\n",
        "    for i in range(n_f):\n",
        "        for h in range(out_dim):\n",
        "            for w in range(out_dim):\n",
        "                h_start = h * stride\n",
        "                h_end = h_start + f\n",
        "                w_start = w * stride\n",
        "                w_end = w_start + f\n",
        "                d_input_padded[h_start:h_end, w_start:w_end, :] += filters[i] * d_out[h, w, i]\n",
        "                d_filters[i] += input_padded[h_start:h_end, w_start:w_end, :] * d_out[h, w, i]\n",
        "                d_bias[i] += d_out[h, w, i]\n",
        "    if padding != 0:\n",
        "        d_input = d_input_padded[padding:-padding, padding:-padding, :]\n",
        "    else:\n",
        "        d_input = d_input_padded\n",
        "    return d_input, d_filters, d_bias\n"
      ],
      "metadata": {
        "id": "P2uppYyKMcQI"
      },
      "execution_count": 7,
      "outputs": []
    },
    {
      "cell_type": "code",
      "source": [
        "def average_pooling(input, size=2, stride=2):\n",
        "    (in_dim, in_dim, n_c) = input.shape\n",
        "    out_dim = int((in_dim - size) / stride) + 1\n",
        "    output = np.zeros((out_dim, out_dim, n_c))\n",
        "    for c in range(n_c):\n",
        "        for h in range(out_dim):\n",
        "            for w in range(out_dim):\n",
        "                h_start = h * stride\n",
        "                h_end = h_start + size\n",
        "                w_start = w * stride\n",
        "                w_end = w_start + size\n",
        "                output[h, w, c] = np.mean(input[h_start:h_end, w_start:w_end, c])\n",
        "    return output\n"
      ],
      "metadata": {
        "id": "_cdZ-BmLM597"
      },
      "execution_count": 8,
      "outputs": []
    },
    {
      "cell_type": "code",
      "source": [
        "def average_pooling_backward(d_out, input, size=2, stride=2):\n",
        "    (in_dim, in_dim, n_c) = input.shape\n",
        "    out_dim = d_out.shape[0]\n",
        "    d_input = np.zeros_like(input)\n",
        "    for c in range(n_c):\n",
        "        for h in range(out_dim):\n",
        "            for w in range(out_dim):\n",
        "                h_start = h * stride\n",
        "                h_end = h_start + size\n",
        "                w_start = w * stride\n",
        "                w_end = w_start + size\n",
        "                gradient = d_out[h, w, c] / (size * size)\n",
        "                d_input[h_start:h_end, w_start:w_end, c] += gradient\n",
        "    return d_input\n"
      ],
      "metadata": {
        "id": "lu007TCwMfmV"
      },
      "execution_count": 9,
      "outputs": []
    },
    {
      "cell_type": "code",
      "source": [
        "def tanh(x):\n",
        "    return np.tanh(x)\n",
        "\n",
        "def tanh_derivative(output):\n",
        "    return 1 - np.square(output)\n",
        "\n",
        "def softmax(x):\n",
        "    exp_x = np.exp(x - np.max(x))\n",
        "    return exp_x / exp_x.sum(axis=0)\n",
        "\n",
        "def cross_entropy_loss(probs, label):\n",
        "    return -np.sum(label * np.log(probs + 1e-15))\n",
        "\n",
        "def cross_entropy_derivative(probs, label):\n",
        "    return probs - label\n"
      ],
      "metadata": {
        "id": "--YEtKRtMgqA"
      },
      "execution_count": 10,
      "outputs": []
    },
    {
      "cell_type": "code",
      "source": [
        "class Conv2D:\n",
        "    def __init__(self, num_filters, filter_size, input_depth, stride=1, padding=0):\n",
        "        self.num_filters = num_filters\n",
        "        self.filter_size = filter_size\n",
        "        self.input_depth = input_depth\n",
        "        self.stride = stride\n",
        "        self.padding = padding\n",
        "        self.filters = np.random.randn(num_filters, filter_size, filter_size, input_depth) * np.sqrt(2.0 / (filter_size * filter_size * input_depth))\n",
        "        self.biases = np.zeros(num_filters)\n",
        "\n",
        "    def forward(self, input):\n",
        "        self.input = input\n",
        "        self.output = conv2d(input, self.filters, self.biases, stride=self.stride, padding=self.padding)\n",
        "        return self.output\n",
        "\n",
        "    def backward(self, d_out):\n",
        "        d_input, d_filters, d_biases = conv2d_backward(d_out, self.input, self.filters, stride=self.stride, padding=self.padding)\n",
        "        self.d_filters = d_filters\n",
        "        self.d_biases = d_biases\n",
        "        return d_input\n",
        "\n",
        "    def update(self, learning_rate):\n",
        "        self.filters -= learning_rate * self.d_filters\n",
        "        self.biases -= learning_rate * self.d_biases\n"
      ],
      "metadata": {
        "id": "_xOKol4JMiKo"
      },
      "execution_count": 11,
      "outputs": []
    },
    {
      "cell_type": "code",
      "source": [
        "class AveragePooling:\n",
        "    def __init__(self, size=2, stride=2):\n",
        "        self.size = size\n",
        "        self.stride = stride\n",
        "\n",
        "    def forward(self, input):\n",
        "        self.input = input\n",
        "        self.output = average_pooling(input, size=self.size, stride=self.stride)\n",
        "        return self.output\n",
        "\n",
        "    def backward(self, d_out):\n",
        "        d_input = average_pooling_backward(d_out, self.input, size=self.size, stride=self.stride)\n",
        "        return d_input\n"
      ],
      "metadata": {
        "id": "QtEno-dnMj2Z"
      },
      "execution_count": 12,
      "outputs": []
    },
    {
      "cell_type": "code",
      "source": [
        "class FullyConnected:\n",
        "    def __init__(self, input_size, output_size):\n",
        "        self.weights = np.random.randn(output_size, input_size) * np.sqrt(2.0 / input_size)\n",
        "        self.biases = np.zeros(output_size)\n",
        "\n",
        "    def forward(self, input):\n",
        "        self.input = input\n",
        "        self.output = np.dot(self.weights, input) + self.biases\n",
        "        return self.output\n",
        "\n",
        "    def backward(self, d_out):\n",
        "        self.d_weights = np.outer(d_out, self.input)\n",
        "        self.d_biases = d_out\n",
        "        d_input = np.dot(self.weights.T, d_out)\n",
        "        return d_input\n",
        "\n",
        "    def update(self, learning_rate):\n",
        "        self.weights -= learning_rate * self.d_weights\n",
        "        self.biases -= learning_rate * self.d_biases\n"
      ],
      "metadata": {
        "id": "h3M5Ott0Mk5C"
      },
      "execution_count": 13,
      "outputs": []
    },
    {
      "cell_type": "code",
      "source": [
        "class TanhActivation:\n",
        "    def forward(self, input):\n",
        "        self.output = tanh(input)\n",
        "        return self.output\n",
        "\n",
        "    def backward(self, d_out):\n",
        "        return d_out * tanh_derivative(self.output)\n"
      ],
      "metadata": {
        "id": "CvdhE4h1MmxS"
      },
      "execution_count": 14,
      "outputs": []
    },
    {
      "cell_type": "code",
      "source": [
        "class SoftmaxCrossEntropyLoss:\n",
        "    def forward(self, logits, labels):\n",
        "        self.labels = labels\n",
        "        self.logits = logits\n",
        "        self.probs = softmax(logits)\n",
        "        loss = cross_entropy_loss(self.probs, labels)\n",
        "        return loss\n",
        "\n",
        "    def backward(self):\n",
        "        return cross_entropy_derivative(self.probs, self.labels)\n"
      ],
      "metadata": {
        "id": "Up2AHam0Mnzy"
      },
      "execution_count": 15,
      "outputs": []
    },
    {
      "cell_type": "code",
      "source": [
        "class LeNet5:\n",
        "    def __init__(self):\n",
        "        self.conv1 = Conv2D(num_filters=6, filter_size=5, input_depth=1, stride=1, padding=0)\n",
        "        self.tanh1 = TanhActivation()\n",
        "        self.pool1 = AveragePooling(size=2, stride=2)\n",
        "\n",
        "        self.conv2 = Conv2D(num_filters=16, filter_size=5, input_depth=6, stride=1, padding=0)\n",
        "        self.tanh2 = TanhActivation()\n",
        "        self.pool2 = AveragePooling(size=2, stride=2)\n",
        "\n",
        "        self.conv3 = Conv2D(num_filters=120, filter_size=5, input_depth=16, stride=1, padding=0)\n",
        "        self.tanh3 = TanhActivation()\n",
        "\n",
        "        self.fc1 = FullyConnected(input_size=120, output_size=84)\n",
        "        self.tanh4 = TanhActivation()\n",
        "        self.fc2 = FullyConnected(input_size=84, output_size=10)\n",
        "        self.loss_layer = SoftmaxCrossEntropyLoss()\n",
        "\n",
        "    def forward(self, x, y):\n",
        "        # Forward pass\n",
        "        x = self.conv1.forward(x)\n",
        "        x = self.tanh1.forward(x)\n",
        "        x = self.pool1.forward(x)\n",
        "\n",
        "        x = self.conv2.forward(x)\n",
        "        x = self.tanh2.forward(x)\n",
        "        x = self.pool2.forward(x)\n",
        "\n",
        "        x = self.conv3.forward(x)\n",
        "        x = self.tanh3.forward(x)\n",
        "\n",
        "        x = x.flatten()\n",
        "        x = self.fc1.forward(x)\n",
        "        x = self.tanh4.forward(x)\n",
        "        logits = self.fc2.forward(x)\n",
        "\n",
        "        loss = self.loss_layer.forward(logits, y)\n",
        "        return loss, self.loss_layer.probs\n",
        "\n",
        "    def backward(self, learning_rate):\n",
        "        # Backward pass\n",
        "        d_logits = self.loss_layer.backward()\n",
        "        d_x = self.fc2.backward(d_logits)\n",
        "        self.fc2.update(learning_rate)\n",
        "\n",
        "        d_x = self.tanh4.backward(d_x)\n",
        "        d_x = self.fc1.backward(d_x)\n",
        "        self.fc1.update(learning_rate)\n",
        "\n",
        "        d_x = d_x.reshape(self.conv3.output.shape)\n",
        "        d_x = self.tanh3.backward(d_x)\n",
        "        d_x = self.conv3.backward(d_x)\n",
        "        self.conv3.update(learning_rate)\n",
        "\n",
        "        d_x = self.pool2.backward(d_x)\n",
        "        d_x = self.tanh2.backward(d_x)\n",
        "        d_x = self.conv2.backward(d_x)\n",
        "        self.conv2.update(learning_rate)\n",
        "\n",
        "        d_x = self.pool1.backward(d_x)\n",
        "        d_x = self.tanh1.backward(d_x)\n",
        "        d_x = self.conv1.backward(d_x)\n",
        "        self.conv1.update(learning_rate)\n"
      ],
      "metadata": {
        "id": "zWK6VzvAMpTh"
      },
      "execution_count": 16,
      "outputs": []
    },
    {
      "cell_type": "code",
      "source": [
        "# Load MNIST data\n",
        "(train_images, train_labels), (test_images, test_labels) = mnist.load_data()\n",
        "\n",
        "# Normalize the images\n",
        "train_images = train_images / 255.0\n",
        "test_images = test_images / 255.0\n",
        "\n",
        "# Reshape the images to (32, 32, 1)\n",
        "train_images = np.expand_dims(train_images, axis=-1)\n",
        "test_images = np.expand_dims(test_images, axis=-1)\n",
        "\n",
        "# Zero-pad the images to 32x32\n",
        "train_images = np.pad(train_images, ((0, 0), (2, 2), (2, 2), (0, 0)), mode='constant')\n",
        "test_images = np.pad(test_images, ((0, 0), (2, 2), (2, 2), (0, 0)), mode='constant')\n",
        "\n",
        "# Convert labels to one-hot encoding\n",
        "train_labels = to_categorical(train_labels, 10)\n",
        "test_labels = to_categorical(test_labels, 10)\n"
      ],
      "metadata": {
        "id": "qLC81-92MrKu"
      },
      "execution_count": 17,
      "outputs": []
    },
    {
      "cell_type": "code",
      "source": [
        "# Choose a subset size\n",
        "subset_size = 500  # Adjust this number as needed\n",
        "\n",
        "# Select the first `subset_size` examples\n",
        "train_images_subset = train_images[:subset_size]\n",
        "train_labels_subset = train_labels[:subset_size]"
      ],
      "metadata": {
        "id": "jMs5ql6kNAMQ"
      },
      "execution_count": 34,
      "outputs": []
    },
    {
      "cell_type": "code",
      "source": [
        "lenet5 = LeNet5()\n",
        "num_epochs = 10  # You can increase this number for better training\n",
        "learning_rate = 0.001\n",
        "\n",
        "for epoch in range(num_epochs):\n",
        "    total_loss = 0\n",
        "    for i in range(len(train_images_subset)):\n",
        "        x = train_images_subset[i]\n",
        "        y = train_labels_subset[i]\n",
        "\n",
        "        loss, probs = lenet5.forward(x, y)\n",
        "        lenet5.backward(learning_rate)\n",
        "\n",
        "        total_loss += loss\n",
        "        if i % 100 == 0:  # Adjust the logging frequency as needed\n",
        "            print(f\"Epoch {epoch+1}, Step {i}, Loss: {loss}\")\n",
        "\n",
        "    average_loss = total_loss / len(train_images_subset)\n",
        "    print(f\"Epoch {epoch+1}, Average Loss: {average_loss}\")\n"
      ],
      "metadata": {
        "id": "Su9vK0Z7MsXj",
        "colab": {
          "base_uri": "https://localhost:8080/"
        },
        "outputId": "04b4932d-5862-438e-8fe5-f8066ad0a4fc"
      },
      "execution_count": 35,
      "outputs": [
        {
          "output_type": "stream",
          "name": "stdout",
          "text": [
            "Epoch 1, Step 0, Loss: 3.503062838239591\n",
            "Epoch 1, Step 100, Loss: 3.3152528794134217\n",
            "Epoch 1, Step 200, Loss: 1.5439046697495928\n",
            "Epoch 1, Step 300, Loss: 2.3099664637346304\n",
            "Epoch 1, Step 400, Loss: 1.5340849708106545\n",
            "Epoch 1, Average Loss: 1.8787412288527578\n",
            "Epoch 2, Step 0, Loss: 2.208340224165726\n",
            "Epoch 2, Step 100, Loss: 2.3678604008023494\n",
            "Epoch 2, Step 200, Loss: 1.061300635942332\n",
            "Epoch 2, Step 300, Loss: 1.9511242448295358\n",
            "Epoch 2, Step 400, Loss: 0.9781186978159672\n",
            "Epoch 2, Average Loss: 1.1764367047438717\n",
            "Epoch 3, Step 0, Loss: 1.8779848124729215\n",
            "Epoch 3, Step 100, Loss: 1.8889986610049774\n",
            "Epoch 3, Step 200, Loss: 0.7737482522585974\n",
            "Epoch 3, Step 300, Loss: 1.669185880611314\n",
            "Epoch 3, Step 400, Loss: 0.5924495759214171\n",
            "Epoch 3, Average Loss: 0.834281266492391\n",
            "Epoch 4, Step 0, Loss: 1.574768907020766\n",
            "Epoch 4, Step 100, Loss: 1.5530950855251289\n",
            "Epoch 4, Step 200, Loss: 0.5919206520847224\n",
            "Epoch 4, Step 300, Loss: 1.5130240559548986\n",
            "Epoch 4, Step 400, Loss: 0.3826992451565347\n",
            "Epoch 4, Average Loss: 0.6648616690790665\n",
            "Epoch 5, Step 0, Loss: 1.3246598581577442\n",
            "Epoch 5, Step 100, Loss: 1.319074690880308\n",
            "Epoch 5, Step 200, Loss: 0.4720760053825863\n",
            "Epoch 5, Step 300, Loss: 1.407690844572198\n",
            "Epoch 5, Step 400, Loss: 0.26967010858434176\n",
            "Epoch 5, Average Loss: 0.5650418226284945\n",
            "Epoch 6, Step 0, Loss: 1.1189855056314086\n",
            "Epoch 6, Step 100, Loss: 1.1569057047343496\n",
            "Epoch 6, Step 200, Loss: 0.38944058898003786\n",
            "Epoch 6, Step 300, Loss: 1.3203206993937349\n",
            "Epoch 6, Step 400, Loss: 0.2038941429455231\n",
            "Epoch 6, Average Loss: 0.4976721655348629\n",
            "Epoch 7, Step 0, Loss: 0.9470296824965357\n",
            "Epoch 7, Step 100, Loss: 1.04437349747746\n",
            "Epoch 7, Step 200, Loss: 0.32977889411153255\n",
            "Epoch 7, Step 300, Loss: 1.2415106951126116\n",
            "Epoch 7, Step 400, Loss: 0.16228033903818298\n",
            "Epoch 7, Average Loss: 0.4478459591426002\n",
            "Epoch 8, Step 0, Loss: 0.8023637306425881\n",
            "Epoch 8, Step 100, Loss: 0.9653226525798794\n",
            "Epoch 8, Step 200, Loss: 0.28491128394293463\n",
            "Epoch 8, Step 300, Loss: 1.1693302151292422\n",
            "Epoch 8, Step 400, Loss: 0.13405731440231664\n",
            "Epoch 8, Average Loss: 0.40862279257283307\n",
            "Epoch 9, Step 0, Loss: 0.6815220617285543\n",
            "Epoch 9, Step 100, Loss: 0.9087243766366252\n",
            "Epoch 9, Step 200, Loss: 0.2500387908372966\n",
            "Epoch 9, Step 300, Loss: 1.1034599154386144\n",
            "Epoch 9, Step 400, Loss: 0.11384582650447199\n",
            "Epoch 9, Average Loss: 0.3763817570240629\n",
            "Epoch 10, Step 0, Loss: 0.5817335246944674\n",
            "Epoch 10, Step 100, Loss: 0.8671730491948489\n",
            "Epoch 10, Step 200, Loss: 0.22223455762658115\n",
            "Epoch 10, Step 300, Loss: 1.0436701315499324\n",
            "Epoch 10, Step 400, Loss: 0.09874434189065011\n",
            "Epoch 10, Average Loss: 0.34905633626983884\n"
          ]
        }
      ]
    },
    {
      "cell_type": "code",
      "source": [
        "correct = 0\n",
        "total = 500\n",
        "for i in range(total):\n",
        "    x = test_images[i]\n",
        "    y = test_labels[i]\n",
        "    _, probs = lenet5.forward(x, y)\n",
        "    predicted = np.argmax(probs)\n",
        "    actual = np.argmax(y)\n",
        "    if predicted == actual:\n",
        "        correct += 1\n",
        "\n",
        "print(f\"Test Accuracy: {correct / total * 100:.2f}%\")\n"
      ],
      "metadata": {
        "id": "Z0l-txbuMthJ",
        "colab": {
          "base_uri": "https://localhost:8080/"
        },
        "outputId": "a357f792-ec51-424c-a698-9768d21b1a64"
      },
      "execution_count": 36,
      "outputs": [
        {
          "output_type": "stream",
          "name": "stdout",
          "text": [
            "Test Accuracy: 83.60%\n"
          ]
        }
      ]
    },
    {
      "cell_type": "code",
      "source": [
        "# Forward pass on a single test image\n",
        "index = 1\n",
        "x = test_images[index]\n",
        "y = test_labels[index]\n",
        "_, probs = lenet5.forward(x, y)\n",
        "predicted_digit = np.argmax(probs)\n",
        "\n",
        "plt.imshow(x.squeeze(), cmap='gray')\n",
        "plt.title(f\"Predicted Digit: {predicted_digit}\")\n",
        "plt.axis('off')\n",
        "plt.show()\n"
      ],
      "metadata": {
        "id": "idgu23wrMu7K",
        "colab": {
          "base_uri": "https://localhost:8080/",
          "height": 428
        },
        "outputId": "aed9c31e-3120-4581-ae03-03ac80d3b36c"
      },
      "execution_count": 37,
      "outputs": [
        {
          "output_type": "display_data",
          "data": {
            "text/plain": [
              "<Figure size 640x480 with 1 Axes>"
            ],
            "image/png": "[encoded data removed]"
          },
          "metadata": {}
        }
      ]
    },
    {
      "cell_type": "code",
      "source": [
        "total = len(test_images)\n",
        "print(total)"
      ],
      "metadata": {
        "colab": {
          "base_uri": "https://localhost:8080/"
        },
        "id": "JxCybDzCPfaU",
        "outputId": "80c6241d-371c-4dd9-ff24-9eb2071d3b25"
      },
      "execution_count": 27,
      "outputs": [
        {
          "output_type": "stream",
          "name": "stdout",
          "text": [
            "10000\n"
          ]
        }
      ]
    },
    {
      "cell_type": "code",
      "source": [
        "import time\n",
        "\n",
        "start_time = time.time()\n",
        "x = test_images[0]\n",
        "y = test_labels[0]\n",
        "_, probs = lenet5.forward(x, y)\n",
        "end_time = time.time()\n",
        "\n",
        "print(f\"Time taken for forward pass on one image: {end_time - start_time:.2f} seconds\")\n"
      ],
      "metadata": {
        "colab": {
          "base_uri": "https://localhost:8080/"
        },
        "id": "sQRAnSe_tfEE",
        "outputId": "464d8cc4-bbba-4f55-ebbd-d97f6388bdd4"
      },
      "execution_count": 26,
      "outputs": [
        {
          "output_type": "stream",
          "name": "stdout",
          "text": [
            "Time taken for forward pass on one image: 0.05 seconds\n"
          ]
        }
      ]
    }
  ]
}