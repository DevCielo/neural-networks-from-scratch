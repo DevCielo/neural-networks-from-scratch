{
  "nbformat": 4,
  "nbformat_minor": 0,
  "metadata": {
    "colab": {
      "provenance": [],
      "authorship_tag": "ABX9TyPwYUe9BtOldnNe4D97Rq79",
      "include_colab_link": true
    },
    "kernelspec": {
      "name": "python3",
      "display_name": "Python 3"
    },
    "language_info": {
      "name": "python"
    }
  },
  "cells": [
    {
      "cell_type": "markdown",
      "metadata": {
        "id": "view-in-github",
        "colab_type": "text"
      },
      "source": [
        "<a href=\"https://colab.research.google.com/github/DevCielo/neural-networks-from-scratch/blob/main/Neural_Networks_From_Scratch.ipynb\" target=\"_parent\"><img src=\"https://colab.research.google.com/assets/colab-badge.svg\" alt=\"Open In Colab\"/></a>"
      ]
    },
    {
      "cell_type": "markdown",
      "source": [
        "# **Bulding CNN's with tensorflow and from scratch**"
      ],
      "metadata": {
        "id": "myJdUFaNRmay"
      }
    },
    {
      "cell_type": "markdown",
      "source": [
        "# LeNet-5 with tensorflow\n"
      ],
      "metadata": {
        "id": "5q8rR2OMR2-k"
      }
    },
    {
      "cell_type": "code",
      "source": [
        "import tensorflow as tf\n",
        "\n",
        "def LeNet5():\n",
        "  model = tf.keras.Sequential([\n",
        "      # Convolution Layer\n",
        "      tf.keras.layers.Conv2D(6, (5, 5), activation='tanh', strides=(1, 1), padding='valid', name='conv0'),\n",
        "      # Average Pooling Layer\n",
        "      tf.keras.layers.AveragePooling2D((2,2), strides=(2,2), name='avg_pool0'),\n",
        "      # Convolution Layer\n",
        "      tf.keras.layers.Conv2D(16, (5, 5), strides=(1,1), padding='valid', activation='tanh', name='conv1'),\n",
        "      # Average Pooling Layer\n",
        "      tf.keras.layers.AveragePooling2D((2,2), strides=(2,2), name='avg_pool1'),\n",
        "      # Convolution Layer\n",
        "      tf.keras.layers.Conv2D(120, (5, 5), strides=(1, 1), padding='valid', activation='tanh', name='conv2'),\n",
        "      # Flatten the output\n",
        "      tf.keras.layers.Flatten(),\n",
        "      # Fully Connected Layer\n",
        "      tf.keras.layers.Dense(84, activation='tanh', name='fc1'),\n",
        "      tf.keras.layers.Dense(10, activation='softmax', name='output'),\n",
        "  ])\n",
        "\n",
        "  return model"
      ],
      "metadata": {
        "id": "pqia4OT9OKQ9"
      },
      "execution_count": 8,
      "outputs": []
    },
    {
      "cell_type": "markdown",
      "source": [
        "# LeNet-5 from scratch"
      ],
      "metadata": {
        "id": "mHwu9zjpSBUv"
      }
    },
    {
      "cell_type": "code",
      "execution_count": 13,
      "metadata": {
        "colab": {
          "base_uri": "https://localhost:8080/"
        },
        "id": "P_8A0CJOOIxv",
        "outputId": "a5ff1a95-e038-4933-9da1-68498014d4d7"
      },
      "outputs": [
        {
          "output_type": "stream",
          "name": "stdout",
          "text": [
            "(32, 32, 6)\n"
          ]
        }
      ],
      "source": [
        "import numpy as np\n",
        "\n",
        "def conv2d(input, filters, bias, stride=1, padding=0):\n",
        "  # decompose the filters shape into the filter size (f) and the number of filters (n_f)\n",
        "  (n_f, f, f) = filters.shape\n",
        "  # decomposes the input shape into the input dimensions (in_dim) and the number of channels (n_c)\n",
        "  (in_dim, in_dim, n_c) = input.shape\n",
        "\n",
        "  # calculates the output dimensions using formula ((n+2p-f)/s + 1)\n",
        "  # int to floor function\n",
        "  out_dim = int((in_dim + 2*padding-f)/stride) + 1\n",
        "\n",
        "  # sets the new output shape to be out_dim*out_dim*n_f\n",
        "  output = np.zeros((out_dim, out_dim, n_f))\n",
        "\n",
        "  # adds padding to the height and width but none to the number of channels\n",
        "  input_padded = np.pad(input, ((padding, padding), (padding, padding), (0, 0)), mode='constant', constant_values = (0,0))\n",
        "\n",
        "  # for every filter, performs the convolution by calculated the height/width start and ends and suming over their values to produce an output\n",
        "  for i in range(n_f):\n",
        "    for h in range(out_dim):\n",
        "      for w in range(out_dim):\n",
        "        h_start = h*stride\n",
        "        h_end = h_start + f\n",
        "        w_start = w*stride\n",
        "        w_end = w_start + f\n",
        "        output[h, w, i] = np.sum(input_padded[h_start:h_end, w_start:w_end, :] * filters[i]) + bias[i]\n",
        "\n",
        "  return output\n"
      ]
    },
    {
      "cell_type": "code",
      "source": [
        "# Example usage of conv2d function (Equal to first step in LeNet-5)\n",
        "input = np.random.randn(32, 32, 1)  # Example input\n",
        "filters = np.random.randn(6, 5, 5)  # Example filters\n",
        "bias = np.random.randn(6)           # Example bias\n",
        "output = conv2d(input, filters, bias, stride=1, padding=0)\n",
        "print(output.shape)  # Expected Output: (28, 28, 6)"
      ],
      "metadata": {
        "colab": {
          "base_uri": "https://localhost:8080/"
        },
        "id": "NL8fGJeqMVnd",
        "outputId": "bcc7f48f-4fe0-4eed-bb7c-9d39622c1fc9"
      },
      "execution_count": 14,
      "outputs": [
        {
          "output_type": "stream",
          "name": "stdout",
          "text": [
            "(28, 28, 6)\n"
          ]
        }
      ]
    },
    {
      "cell_type": "code",
      "source": [],
      "metadata": {
        "id": "_cdZ-BmLM597"
      },
      "execution_count": null,
      "outputs": []
    }
  ]
}